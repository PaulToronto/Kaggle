{
 "cells": [
  {
   "cell_type": "markdown",
   "metadata": {},
   "source": [
    "# Dive into the Competition\n",
    "\n",
    "https://www.kaggle.com/competitions/two-sigma-connect-rental-listing-inquiries"
   ]
  },
  {
   "cell_type": "markdown",
   "metadata": {},
   "source": [
    "## Imports"
   ]
  },
  {
   "cell_type": "code",
   "execution_count": 1,
   "metadata": {},
   "outputs": [],
   "source": [
    "import sys\n",
    "import os\n",
    "\n",
    "# Get the parent directory\n",
    "parent_dir = os.path.abspath(os.path.join(os.getcwd(), os.pardir))\n",
    "\n",
    "# Add the parent directory to the system path\n",
    "sys.path.append(parent_dir)\n",
    "\n",
    "from utils import download_competition_data"
   ]
  },
  {
   "cell_type": "code",
   "execution_count": 2,
   "metadata": {},
   "outputs": [],
   "source": [
    "import pandas as pd\n",
    "import numpy as np\n",
    "import matplotlib.pyplot as plt\n",
    "\n",
    "from sklearn.model_selection import KFold, StratifiedKFold, TimeSeriesSplit"
   ]
  },
  {
   "cell_type": "code",
   "execution_count": 3,
   "metadata": {},
   "outputs": [],
   "source": [
    "plt.style.use('ggplot')"
   ]
  },
  {
   "cell_type": "markdown",
   "metadata": {},
   "source": [
    "## Solution Workflow\n",
    "\n",
    "1. Understand the Problem\n",
    "    - Data type: tabular data, time series, images, text, ...\n",
    "    - Problem type: classification, regression, ranking, ...\n",
    "    - Evaluation metrics: ROC AUC, F1-Score, MAE, MSE, ...\n",
    "2. Initial EDA\n",
    "    - size of data\n",
    "    - properties of the target variable\n",
    "    - properties of the features\n",
    "    - generate ideas for feature engineering\n",
    "3. Local Validation (prevent overfitting)\n",
    "4. Modeling"
   ]
  },
  {
   "cell_type": "markdown",
   "metadata": {},
   "source": [
    "## Step 1: Understand the Problem"
   ]
  },
  {
   "cell_type": "markdown",
   "metadata": {},
   "source": [
    "### Problem Statement\n",
    "\n",
    "Predict the popularity of an apartment rental listing"
   ]
  },
  {
   "cell_type": "markdown",
   "metadata": {},
   "source": [
    "### Target Variable\n",
    "\n",
    "`interest_level`"
   ]
  },
  {
   "cell_type": "markdown",
   "metadata": {},
   "source": [
    "### Problem Type\n",
    "\n",
    "Classification with 3 classes:\n",
    "- 'high'\n",
    "- 'medium'\n",
    "- 'low'"
   ]
  },
  {
   "cell_type": "markdown",
   "metadata": {},
   "source": [
    "### Metric\n",
    "\n",
    "Multi-class logarithmic loss.\n",
    "\n",
    "Each listing has one true class. For each listing, you must submit a set of predicted probabilities (one for every listing). The formula is then,\n",
    "\n",
    "$$\n",
    "\\text{Log Loss} = -\\frac{1}{N} \\sum_{i=1}^N \\sum_{j=1}^M y_{ij} \\log(p_{ij})\n",
    "$$\n",
    "\n",
    "$log$ is the natural logarithm\n",
    "<br/>\n",
    "$N$: Number of samples in the dataset\n",
    "<br/>\n",
    "$M$: Number of classes (in our case it is 3)\n",
    "<br/>\n",
    "$y_{ij}$: Indicator variable that equals 1 if the true class of sample $i$ is $j$, and 0 otherwise\n",
    "<br/>\n",
    "$p_{ij}$: Predicted probability that sample $i$ belongs to class $j$, outputted by the model (e.g. from softmax)\n",
    "\n",
    "<br/><br/>\n",
    "\n",
    "The submitted probabilities for a given listing are not required to sum to one because they are rescaled prior to being scored (each row is divided by the row sum). In order to avoid the extremes of the log function, predicted probabilities are replaced with $max(min(p,1−10^{−15}),10^{−15})$"
   ]
  },
  {
   "cell_type": "code",
   "execution_count": 4,
   "metadata": {},
   "outputs": [
    {
     "data": {
      "text/plain": [
       "(1e-14, 0.5, 0.999999999999999)"
      ]
     },
     "execution_count": 4,
     "metadata": {},
     "output_type": "execute_result"
    }
   ],
   "source": [
    "def avoid_extremes(p):\n",
    "    arg1 = np.min([p, 1 - 1e-15])\n",
    "    arg2 = 10e-15\n",
    "    return np.max([arg1, arg2])\n",
    "\n",
    "avoid_extremes(0), avoid_extremes(0.5), avoid_extremes(1)"
   ]
  },
  {
   "cell_type": "markdown",
   "metadata": {},
   "source": [
    "## Step 2: Initial EDA"
   ]
  },
  {
   "cell_type": "markdown",
   "metadata": {},
   "source": [
    "### The Data"
   ]
  },
  {
   "cell_type": "code",
   "execution_count": 5,
   "metadata": {},
   "outputs": [
    {
     "name": "stdout",
     "output_type": "stream",
     "text": [
      "Checking contents of '/Users/paul/Documents/repos/Kaggle/two-sigma-connect-rental-listing-inquiries/data'... Found: ['Kaggle-renthop.torrent', 'test.json', 'train.json', 'images_sample', 'sample_submission.csv']\n",
      "Data already exists in '/Users/paul/Documents/repos/Kaggle/two-sigma-connect-rental-listing-inquiries/data'. Skipping download.\n"
     ]
    }
   ],
   "source": [
    "download_competition_data('two-sigma-connect-rental-listing-inquiries')"
   ]
  },
  {
   "cell_type": "code",
   "execution_count": 6,
   "metadata": {},
   "outputs": [
    {
     "data": {
      "text/plain": [
       "(49352, 15)"
      ]
     },
     "execution_count": 6,
     "metadata": {},
     "output_type": "execute_result"
    }
   ],
   "source": [
    "train = pd.read_json('data/train.json')\n",
    "train['listing_id'] = train['listing_id'].astype(str)\n",
    "train['interest_level'] = pd.Categorical(train['interest_level'], categories=['low', 'medium', 'high'], ordered=True)\n",
    "train.shape"
   ]
  },
  {
   "cell_type": "code",
   "execution_count": 7,
   "metadata": {},
   "outputs": [
    {
     "name": "stdout",
     "output_type": "stream",
     "text": [
      "<class 'pandas.core.frame.DataFrame'>\n",
      "Index: 74659 entries, 0 to 124010\n",
      "Data columns (total 14 columns):\n",
      " #   Column           Non-Null Count  Dtype  \n",
      "---  ------           --------------  -----  \n",
      " 0   bathrooms        74659 non-null  float64\n",
      " 1   bedrooms         74659 non-null  int64  \n",
      " 2   building_id      74659 non-null  object \n",
      " 3   created          74659 non-null  object \n",
      " 4   description      74659 non-null  object \n",
      " 5   display_address  74659 non-null  object \n",
      " 6   features         74659 non-null  object \n",
      " 7   latitude         74659 non-null  float64\n",
      " 8   listing_id       74659 non-null  object \n",
      " 9   longitude        74659 non-null  float64\n",
      " 10  manager_id       74659 non-null  object \n",
      " 11  photos           74659 non-null  object \n",
      " 12  price            74659 non-null  int64  \n",
      " 13  street_address   74659 non-null  object \n",
      "dtypes: float64(3), int64(2), object(9)\n",
      "memory usage: 8.5+ MB\n"
     ]
    }
   ],
   "source": [
    "test = pd.read_json('data/test.json')\n",
    "test['listing_id']=test['listing_id'].astype(str)\n",
    "test.info()"
   ]
  },
  {
   "cell_type": "code",
   "execution_count": 8,
   "metadata": {},
   "outputs": [],
   "source": [
    "features_and_target = ['listing_id', 'bathrooms', 'bedrooms', 'building_id', 'latitude', 'longitude', \n",
    "                       'manager_id', 'price', 'interest_level']\n",
    "features = features_and_target[:-1]"
   ]
  },
  {
   "cell_type": "code",
   "execution_count": 9,
   "metadata": {},
   "outputs": [],
   "source": [
    "train = train[features_and_target]\n",
    "test = test[features]"
   ]
  },
  {
   "cell_type": "markdown",
   "metadata": {},
   "source": [
    "### Target Variable"
   ]
  },
  {
   "cell_type": "code",
   "execution_count": 10,
   "metadata": {},
   "outputs": [
    {
     "data": {
      "text/plain": [
       "interest_level\n",
       "low       34284\n",
       "medium    11229\n",
       "high       3839\n",
       "Name: count, dtype: int64"
      ]
     },
     "execution_count": 10,
     "metadata": {},
     "output_type": "execute_result"
    }
   ],
   "source": [
    "train['interest_level'].value_counts()"
   ]
  },
  {
   "cell_type": "markdown",
   "metadata": {},
   "source": [
    "### The features"
   ]
  },
  {
   "cell_type": "code",
   "execution_count": 11,
   "metadata": {},
   "outputs": [],
   "source": [
    "train['listing_id'] = train['listing_id'].astype(str)"
   ]
  },
  {
   "cell_type": "code",
   "execution_count": 12,
   "metadata": {},
   "outputs": [
    {
     "data": {
      "text/html": [
       "<div>\n",
       "<style scoped>\n",
       "    .dataframe tbody tr th:only-of-type {\n",
       "        vertical-align: middle;\n",
       "    }\n",
       "\n",
       "    .dataframe tbody tr th {\n",
       "        vertical-align: top;\n",
       "    }\n",
       "\n",
       "    .dataframe thead th {\n",
       "        text-align: right;\n",
       "    }\n",
       "</style>\n",
       "<table border=\"1\" class=\"dataframe\">\n",
       "  <thead>\n",
       "    <tr style=\"text-align: right;\">\n",
       "      <th></th>\n",
       "      <th>bathrooms</th>\n",
       "      <th>bedrooms</th>\n",
       "      <th>latitude</th>\n",
       "      <th>longitude</th>\n",
       "      <th>price</th>\n",
       "    </tr>\n",
       "  </thead>\n",
       "  <tbody>\n",
       "    <tr>\n",
       "      <th>count</th>\n",
       "      <td>49352.00000</td>\n",
       "      <td>49352.000000</td>\n",
       "      <td>49352.000000</td>\n",
       "      <td>49352.000000</td>\n",
       "      <td>4.935200e+04</td>\n",
       "    </tr>\n",
       "    <tr>\n",
       "      <th>mean</th>\n",
       "      <td>1.21218</td>\n",
       "      <td>1.541640</td>\n",
       "      <td>40.741545</td>\n",
       "      <td>-73.955716</td>\n",
       "      <td>3.830174e+03</td>\n",
       "    </tr>\n",
       "    <tr>\n",
       "      <th>std</th>\n",
       "      <td>0.50142</td>\n",
       "      <td>1.115018</td>\n",
       "      <td>0.638535</td>\n",
       "      <td>1.177912</td>\n",
       "      <td>2.206687e+04</td>\n",
       "    </tr>\n",
       "    <tr>\n",
       "      <th>min</th>\n",
       "      <td>0.00000</td>\n",
       "      <td>0.000000</td>\n",
       "      <td>0.000000</td>\n",
       "      <td>-118.271000</td>\n",
       "      <td>4.300000e+01</td>\n",
       "    </tr>\n",
       "    <tr>\n",
       "      <th>25%</th>\n",
       "      <td>1.00000</td>\n",
       "      <td>1.000000</td>\n",
       "      <td>40.728300</td>\n",
       "      <td>-73.991700</td>\n",
       "      <td>2.500000e+03</td>\n",
       "    </tr>\n",
       "    <tr>\n",
       "      <th>50%</th>\n",
       "      <td>1.00000</td>\n",
       "      <td>1.000000</td>\n",
       "      <td>40.751800</td>\n",
       "      <td>-73.977900</td>\n",
       "      <td>3.150000e+03</td>\n",
       "    </tr>\n",
       "    <tr>\n",
       "      <th>75%</th>\n",
       "      <td>1.00000</td>\n",
       "      <td>2.000000</td>\n",
       "      <td>40.774300</td>\n",
       "      <td>-73.954800</td>\n",
       "      <td>4.100000e+03</td>\n",
       "    </tr>\n",
       "    <tr>\n",
       "      <th>max</th>\n",
       "      <td>10.00000</td>\n",
       "      <td>8.000000</td>\n",
       "      <td>44.883500</td>\n",
       "      <td>0.000000</td>\n",
       "      <td>4.490000e+06</td>\n",
       "    </tr>\n",
       "  </tbody>\n",
       "</table>\n",
       "</div>"
      ],
      "text/plain": [
       "         bathrooms      bedrooms      latitude     longitude         price\n",
       "count  49352.00000  49352.000000  49352.000000  49352.000000  4.935200e+04\n",
       "mean       1.21218      1.541640     40.741545    -73.955716  3.830174e+03\n",
       "std        0.50142      1.115018      0.638535      1.177912  2.206687e+04\n",
       "min        0.00000      0.000000      0.000000   -118.271000  4.300000e+01\n",
       "25%        1.00000      1.000000     40.728300    -73.991700  2.500000e+03\n",
       "50%        1.00000      1.000000     40.751800    -73.977900  3.150000e+03\n",
       "75%        1.00000      2.000000     40.774300    -73.954800  4.100000e+03\n",
       "max       10.00000      8.000000     44.883500      0.000000  4.490000e+06"
      ]
     },
     "execution_count": 12,
     "metadata": {},
     "output_type": "execute_result"
    }
   ],
   "source": [
    "train.describe()"
   ]
  },
  {
   "cell_type": "code",
   "execution_count": 13,
   "metadata": {},
   "outputs": [
    {
     "data": {
      "text/html": [
       "<div>\n",
       "<style scoped>\n",
       "    .dataframe tbody tr th:only-of-type {\n",
       "        vertical-align: middle;\n",
       "    }\n",
       "\n",
       "    .dataframe tbody tr th {\n",
       "        vertical-align: top;\n",
       "    }\n",
       "\n",
       "    .dataframe thead th {\n",
       "        text-align: right;\n",
       "    }\n",
       "</style>\n",
       "<table border=\"1\" class=\"dataframe\">\n",
       "  <thead>\n",
       "    <tr style=\"text-align: right;\">\n",
       "      <th></th>\n",
       "      <th>interest_level</th>\n",
       "      <th>price</th>\n",
       "    </tr>\n",
       "  </thead>\n",
       "  <tbody>\n",
       "    <tr>\n",
       "      <th>0</th>\n",
       "      <td>low</td>\n",
       "      <td>3300.0</td>\n",
       "    </tr>\n",
       "    <tr>\n",
       "      <th>1</th>\n",
       "      <td>medium</td>\n",
       "      <td>2895.0</td>\n",
       "    </tr>\n",
       "    <tr>\n",
       "      <th>2</th>\n",
       "      <td>high</td>\n",
       "      <td>2400.0</td>\n",
       "    </tr>\n",
       "  </tbody>\n",
       "</table>\n",
       "</div>"
      ],
      "text/plain": [
       "  interest_level   price\n",
       "0            low  3300.0\n",
       "1         medium  2895.0\n",
       "2           high  2400.0"
      ]
     },
     "execution_count": 13,
     "metadata": {},
     "output_type": "execute_result"
    }
   ],
   "source": [
    "# find the median price by interest level\n",
    "prices = train.groupby('interest_level', \n",
    "                       observed=False,\n",
    "                       as_index=False)['price'].median()\n",
    "prices = prices.sort_values('interest_level')  \n",
    "prices"
   ]
  },
  {
   "cell_type": "code",
   "execution_count": 14,
   "metadata": {},
   "outputs": [
    {
     "data": {
      "image/png": "[encoded data removed]",
      "text/plain": [
       "<Figure size 700x500 with 1 Axes>"
      ]
     },
     "metadata": {},
     "output_type": "display_data"
    }
   ],
   "source": [
    "fig = plt.figure(figsize=(7, 5))\n",
    "plt.bar(prices['interest_level'], prices['price'],\n",
    "        width=0.5,\n",
    "        alpha=0.8)\n",
    "\n",
    "plt.xlabel('Interest Level')\n",
    "plt.ylabel('Median Price')\n",
    "plt.title('Median Price by Interest Level')\n",
    "\n",
    "plt.show()"
   ]
  },
  {
   "cell_type": "markdown",
   "metadata": {},
   "source": [
    "- Medium and high interest listings have lower prices\n",
    "- People are searching for cheaper apartments\n",
    "- A potentially useful new feature would be the price per bedroom"
   ]
  },
  {
   "cell_type": "markdown",
   "metadata": {},
   "source": [
    "## Step 3: Local Validation\n",
    "\n",
    "- Prevent Overfitting"
   ]
  },
  {
   "cell_type": "markdown",
   "metadata": {},
   "source": [
    "### Holdout Set\n",
    "\n",
    "- Split the train data into a **train set** and a **holdout set**\n",
    "- Train on the **train set** and make predictions on the **holdout set**\n",
    "\n",
    "### K-fold Cross-Validation\n",
    "\n",
    "1. Split the data into `k` non-overlapping parts called \"folds\"\n",
    "2. Train the model `k` times on all the data (**training set**) except for a single fold (**testing set**), choosing different fold to omit each time\n",
    "3. Each time, we also measure the quality using the **testing set** \n"
   ]
  },
  {
   "cell_type": "code",
   "execution_count": 15,
   "metadata": {},
   "outputs": [
    {
     "data": {
      "text/plain": [
       "KFold(n_splits=5, random_state=123, shuffle=True)"
      ]
     },
     "execution_count": 15,
     "metadata": {},
     "output_type": "execute_result"
    }
   ],
   "source": [
    "# from sklearn.model_selection import KFold\n",
    "\n",
    "# create a KFold object with 5 splits\n",
    "kf = KFold(n_splits=5, shuffle=True, random_state=123)\n",
    "kf "
   ]
  },
  {
   "cell_type": "code",
   "execution_count": 16,
   "metadata": {},
   "outputs": [
    {
     "name": "stdout",
     "output_type": "stream",
     "text": [
      "                     all     train      test\n",
      "interest_level                              \n",
      "low             0.694683  0.694765  0.694357\n",
      "medium          0.227529  0.227552  0.227434\n",
      "high            0.077788  0.077683  0.078209\n",
      "                     all     train      test\n",
      "interest_level                              \n",
      "low             0.694683  0.694714  0.694560\n",
      "medium          0.227529  0.226945  0.229865\n",
      "high            0.077788  0.078341  0.075575\n",
      "                     all     train      test\n",
      "interest_level                              \n",
      "low             0.694683  0.694595  0.695035\n",
      "medium          0.227529  0.227927  0.225937\n",
      "high            0.077788  0.077478  0.079027\n",
      "                     all     train      test\n",
      "interest_level                              \n",
      "low             0.694683  0.694418  0.695745\n",
      "medium          0.227529  0.227977  0.225735\n",
      "high            0.077788  0.077605  0.078521\n",
      "                     all     train      test\n",
      "interest_level                              \n",
      "low             0.694683  0.694924  0.693718\n",
      "medium          0.227529  0.227243  0.228673\n",
      "high            0.077788  0.077833  0.077609\n"
     ]
    }
   ],
   "source": [
    "# Loop through the splits\n",
    "for train_indices, test_indices in kf.split(train):\n",
    "    # get the training set and testing set for the current split\n",
    "    cv_train, cv_test = train.iloc[train_indices], train.iloc[test_indices]\n",
    "    all_counts = train['interest_level'].value_counts(normalize=True)\n",
    "    train_counts = cv_train['interest_level'].value_counts(normalize=True)\n",
    "    test_counts = cv_test['interest_level'].value_counts(normalize=True)\n",
    "    print(pd.DataFrame({'all': all_counts,\n",
    "                        'train': train_counts,\n",
    "                        'test': test_counts}))"
   ]
  },
  {
   "cell_type": "markdown",
   "metadata": {},
   "source": [
    "### Statified K-fold\n",
    "\n",
    "- Creates stratified folds by target variable\n",
    "- Better choice for an unbalanced dataset"
   ]
  },
  {
   "cell_type": "code",
   "execution_count": 17,
   "metadata": {},
   "outputs": [
    {
     "data": {
      "text/plain": [
       "StratifiedKFold(n_splits=5, random_state=123, shuffle=True)"
      ]
     },
     "execution_count": 17,
     "metadata": {},
     "output_type": "execute_result"
    }
   ],
   "source": [
    "# from sklearn.model_selection import StratifiedKFold\n",
    "\n",
    "# create a StratifiedKFold object with 5 splits\n",
    "strat_kf = StratifiedKFold(n_splits=5, shuffle=True, random_state=123)\n",
    "strat_kf"
   ]
  },
  {
   "cell_type": "code",
   "execution_count": 18,
   "metadata": {},
   "outputs": [
    {
     "name": "stdout",
     "output_type": "stream",
     "text": [
      "                     all     train      test\n",
      "interest_level                              \n",
      "low             0.694683  0.694689  0.694661\n",
      "medium          0.227529  0.227527  0.227535\n",
      "high            0.077788  0.077784  0.077804\n",
      "                     all     train      test\n",
      "interest_level                              \n",
      "low             0.694683  0.694689  0.694661\n",
      "medium          0.227529  0.227527  0.227535\n",
      "high            0.077788  0.077784  0.077804\n",
      "                     all     train      test\n",
      "interest_level                              \n",
      "low             0.694683  0.694671  0.694732\n",
      "medium          0.227529  0.227521  0.227558\n",
      "high            0.077788  0.077808  0.077710\n",
      "                     all     train      test\n",
      "interest_level                              \n",
      "low             0.694683  0.694696  0.694630\n",
      "medium          0.227529  0.227521  0.227558\n",
      "high            0.077788  0.077782  0.077812\n",
      "                     all     train      test\n",
      "interest_level                              \n",
      "low             0.694683  0.694671  0.694732\n",
      "medium          0.227529  0.227547  0.227457\n",
      "high            0.077788  0.077782  0.077812\n"
     ]
    }
   ],
   "source": [
    "# Loop through the splits\n",
    "for train_indices, test_indices in strat_kf.split(train, train['interest_level']):\n",
    "    # get the training set and testing set for the current split\n",
    "    cv_train, cv_test = train.iloc[train_indices], train.iloc[test_indices]\n",
    "    all_counts = train['interest_level'].value_counts(normalize=True)\n",
    "    train_counts = cv_train['interest_level'].value_counts(normalize=True)\n",
    "    test_counts = cv_test['interest_level'].value_counts(normalize=True)\n",
    "    print(pd.DataFrame({'all': all_counts,\n",
    "                        'train': train_counts,\n",
    "                        'test': test_counts}))"
   ]
  },
  {
   "cell_type": "markdown",
   "metadata": {},
   "source": [
    "### Validation Usage"
   ]
  },
  {
   "cell_type": "markdown",
   "metadata": {},
   "source": [
    "#### Data Leakage\n",
    "\n",
    "- Leakage causes a model to seem accurate, until we start making predictions in a real-world enivironment\n",
    "\n",
    "##### Types of Data Leakage\n",
    "\n",
    "1. Leak in features: using data that will not be available in the real setting\n",
    "    - example: predicting sales in US dollars, while having exactly the same sales in UK pounds as a feature\n",
    "2. Leak in validation strategy: validation strategy differs from the real-world situation\n",
    "    - suppose we are solving the problem with time series data\n",
    "    - as a validation strategy, we selected the usual k-fold\n",
    "        - in the second split, we build a model using data from the future, which is a problem because in a real-world setting we will not have access to data from the future\n",
    "        - <img src='images/img1.png'>\n",
    "        - one possible fix for this is to use time k-fold cross-validation\n",
    "        - <img src='images/img2.png'>"
   ]
  },
  {
   "cell_type": "code",
   "execution_count": 19,
   "metadata": {},
   "outputs": [
    {
     "data": {
      "text/plain": [
       "TimeSeriesSplit(gap=0, max_train_size=None, n_splits=5, test_size=None)"
      ]
     },
     "execution_count": 19,
     "metadata": {},
     "output_type": "execute_result"
    }
   ],
   "source": [
    "# from sklearn.model_selection import TimeSeriesSplit\n",
    "\n",
    "# create a TimeSeriesSplit object with 5 splits\n",
    "time_kf = TimeSeriesSplit(n_splits=5)\n",
    "time_kf"
   ]
  },
  {
   "cell_type": "code",
   "execution_count": 20,
   "metadata": {},
   "outputs": [
    {
     "name": "stdout",
     "output_type": "stream",
     "text": [
      "(8227, 9) (8225, 9)\n",
      "(16452, 9) (8225, 9)\n",
      "(24677, 9) (8225, 9)\n",
      "(32902, 9) (8225, 9)\n",
      "(41127, 9) (8225, 9)\n"
     ]
    }
   ],
   "source": [
    "# loop through the splits\n",
    "for train_indices, test_indices in time_kf.split(train):\n",
    "    # get the training set and testing set for the current split\n",
    "    cv_train, cv_test = train.iloc[train_indices], train.iloc[test_indices]\n",
    "    print(cv_train.shape, cv_test.shape)"
   ]
  },
  {
   "cell_type": "markdown",
   "metadata": {},
   "source": [
    "### Validation Pipeline"
   ]
  }
 ],
 "metadata": {
  "kernelspec": {
   "display_name": "kaggle",
   "language": "python",
   "name": "python3"
  },
  "language_info": {
   "codemirror_mode": {
    "name": "ipython",
    "version": 3
   },
   "file_extension": ".py",
   "mimetype": "text/x-python",
   "name": "python",
   "nbconvert_exporter": "python",
   "pygments_lexer": "ipython3",
   "version": "3.10.13"
  }
 },
 "nbformat": 4,
 "nbformat_minor": 2
}
